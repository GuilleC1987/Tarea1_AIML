{
  "nbformat": 4,
  "nbformat_minor": 0,
  "metadata": {
    "colab": {
      "provenance": [],
      "authorship_tag": "ABX9TyMDTC0pIcdV2VZ5QHSPKLdY",
      "include_colab_link": true
    },
    "kernelspec": {
      "name": "python3",
      "display_name": "Python 3"
    },
    "language_info": {
      "name": "python"
    }
  },
  "cells": [
    {
      "cell_type": "markdown",
      "metadata": {
        "id": "view-in-github",
        "colab_type": "text"
      },
      "source": [
        "<a href=\"https://colab.research.google.com/github/GuilleC1987/Tarea1_AIML/blob/main/proyectoPython.ipynb\" target=\"_parent\"><img src=\"https://colab.research.google.com/assets/colab-badge.svg\" alt=\"Open In Colab\"/></a>"
      ]
    },
    {
      "cell_type": "code",
      "execution_count": 42,
      "metadata": {
        "id": "PlIf2rEB1Ojl"
      },
      "outputs": [],
      "source": [
        "!pip install ydata-profiling -q\n",
        "from ydata_profiling import ProfileReport\n",
        "import pandas as pd\n",
        "import numpy as np\n",
        "import matplotlib.pyplot as plt\n",
        "import seaborn as sns"
      ]
    },
    {
      "cell_type": "code",
      "source": [
        "# Link kaggle goodreadsbooks data set https://www.kaggle.com/datasets/jealousleopard/goodreadsbooks\n",
        "# Se utiliza el parámetros encoding para evitar error de interpretación al momento de que python lea el archivo y encuentre caracteres especiales.\n",
        "# Se utiliza el parámetros on_bad_lines para saltar lineas del archivo original en donde se tienen valores fuera de las columnas originales de la tabla.\n",
        "\n",
        "df_books = pd.read_csv('books.csv', encoding=\"latin1\", on_bad_lines='warn')\n",
        "df_books.head()"
      ],
      "metadata": {
        "id": "B9T-pb6O3daH"
      },
      "execution_count": null,
      "outputs": []
    },
    {
      "cell_type": "code",
      "source": [
        "#Haciendo uso de shape se obtiene el número de filas y columnas en el data set,\n",
        "df_books.shape"
      ],
      "metadata": {
        "id": "HaMgYATkvPH3"
      },
      "execution_count": null,
      "outputs": []
    },
    {
      "cell_type": "code",
      "source": [
        "#A través de la funcion info se identifica el tipo de dato en cada columna,\n",
        "df_books.info()"
      ],
      "metadata": {
        "id": "g5i1ThxpvM4S"
      },
      "execution_count": null,
      "outputs": []
    },
    {
      "cell_type": "code",
      "source": [
        "#Ejecutando la siguiente linea de código se da formato a los valores arrojados por pandas, con el fin de obtener valores tipo float con dos decimales. En un primer intento se obtuvo resultados con\n",
        "# el formato por default en notación cientifica.\n",
        "pd.set_option('display.float_format', '{:.2f}'.format)"
      ],
      "metadata": {
        "id": "y0iCuTJSmuKP"
      },
      "execution_count": 46,
      "outputs": []
    },
    {
      "cell_type": "code",
      "source": [
        "df_books.describe().transpose()"
      ],
      "metadata": {
        "id": "nWVQjC9A4pj6"
      },
      "execution_count": null,
      "outputs": []
    },
    {
      "cell_type": "markdown",
      "source": [
        "Al análisar el resultado de la función describe se puede concluir lo siguiente del dataframe books:\n",
        "- En el data set la mayoría de libros tienen una buena calificación, la media del averga_raiting es 3.93 y el 75% de los libros han sido calificados con raitings superiores a 3.77.\n",
        "- Adicionalmente, se puede concluir que la mayoría de libros son extensos en su número de páginas, la media es de 336 y casi el 75% de los libros son más extensos a 200 páginas.\n",
        "- En las siguientes secciones de este notebook se identificará el libro con mayor número de páginas.\n",
        "- Además, para la columna num_pages, se observa que el mínimo valor es cero, lo cual no tiene mucho sentido. Se contabilizaran e identificar estos caso para determinar si puede alterar o ensuciar los resultados posteriores.\n",
        "- Finalmente, se identifican libros sin raiting_counts y text_reviews_count, lo cual es factible.\n"
      ],
      "metadata": {
        "id": "P1a3egVqm7WC"
      }
    },
    {
      "cell_type": "code",
      "source": [
        "#En la base al resultado de la linea anterior, se desea identificar el nombre del libro más extenso, el cual según resultado tiene 6576 páginas.\n",
        "#En un primer intento, al ejecutar el filtrado de la fila se obtuvo un error, ya que la columna en el dataset original tiene un espacio al inicio del nombre,\n",
        "#el cual se eliminó haciendo uso de la función srt.strip.\n",
        "df_books.columns = df_books.columns.str.strip()\n",
        "df_books[df_books['num_pages']==6576]"
      ],
      "metadata": {
        "id": "NMUJB4VLpxxY"
      },
      "execution_count": null,
      "outputs": []
    },
    {
      "cell_type": "code",
      "source": [
        "#Se contabiliza el número de libros con cero como valor en num_pages\n",
        "len(list(df_books[df_books['num_pages']==0]['title']))"
      ],
      "metadata": {
        "id": "5R4cXjFssumD"
      },
      "execution_count": null,
      "outputs": []
    },
    {
      "cell_type": "code",
      "source": [
        "# Se identifican 76 libros cuyo valor num_pages es igual a cero. Muy probablemente el creador del data set goodreadsbooks hizo el reemplazo de valores nulos por ceros.\n",
        "# Dejo constancia y link de kaggle en donde obtuve el dataset para comprobación de la limpieza efectuada por el creador.\n",
        "# Sin embargo, debido a la gran cantidad de filas en el data set (11123.00), reemplazar por ceros el valor de num_pages en 76 filas no tendrá mayor efecto distorcionador en los resultados\n",
        "#del EDA y análisis siguientes.\n",
        "list(df_books[df_books['num_pages']==0]['title'])"
      ],
      "metadata": {
        "id": "CysnsuzDsK0i"
      },
      "execution_count": null,
      "outputs": []
    },
    {
      "cell_type": "code",
      "source": [
        "#Se ejecuta ProfileReport de ydata_profiling para completar el EDA\n",
        "report = ProfileReport(df_books)\n",
        "report.to_file(output_file='output.html')"
      ],
      "metadata": {
        "id": "UAJLpteh7G8D"
      },
      "execution_count": null,
      "outputs": []
    },
    {
      "cell_type": "code",
      "source": [
        "#Se corrobora que el data set no tiene null values.\n",
        "df_books.isnull().sum()"
      ],
      "metadata": {
        "id": "jdOdSWQ984Gk"
      },
      "execution_count": null,
      "outputs": []
    },
    {
      "cell_type": "code",
      "source": [
        "sns.pairplot(df_books);"
      ],
      "metadata": {
        "id": "YlM3xRgh9DvS"
      },
      "execution_count": null,
      "outputs": []
    },
    {
      "cell_type": "code",
      "source": [],
      "metadata": {
        "id": "wrEgiZA99jCY"
      },
      "execution_count": null,
      "outputs": []
    },
    {
      "cell_type": "markdown",
      "source": [
        "De los graficos anteriores el análisis se centrará en average_rating,  num_pages, ratings_count y text_reviews_count, ya que el resto de campos númericos identificadores.\n",
        "\n",
        "- En general, los libros del data set están bien calificados, con un average_rating entre 3 y 5. Unicamente casos bien particulares están fuera de este rango.\n",
        "- Además, se observa en el análisis descriptivo y en el gráfico que la mayoria de los libros han sido calificados por al menos por 100 lectores. Es decir, que se tiene una buena cantidad de datos para concluir que los libros en su mayoría son buenos libros.\n",
        "- Revisando la relación entre average_rating y text_reviews_count, se observa que, si bien es cierto se tienen altos valores de average_rating, una menor cantidad de personas han dejado sus comentarios. Los lectores tienden a obviar esta sección."
      ],
      "metadata": {
        "id": "LP7Jg33R60hr"
      }
    },
    {
      "cell_type": "code",
      "source": [],
      "metadata": {
        "id": "kuYEK9fjAqgE"
      },
      "execution_count": null,
      "outputs": []
    }
  ]
}