{
  "nbformat": 4,
  "nbformat_minor": 0,
  "metadata": {
    "colab": {
      "provenance": [],
      "authorship_tag": "ABX9TyN4UO+ltFTvMfFjpNDXUdJi",
      "include_colab_link": true
    },
    "kernelspec": {
      "name": "python3",
      "display_name": "Python 3"
    },
    "language_info": {
      "name": "python"
    }
  },
  "cells": [
    {
      "cell_type": "markdown",
      "metadata": {
        "id": "view-in-github",
        "colab_type": "text"
      },
      "source": [
        "<a href=\"https://colab.research.google.com/github/GuilleC1987/Tarea1_AIML/blob/main/proyectoPython.ipynb\" target=\"_parent\"><img src=\"https://colab.research.google.com/assets/colab-badge.svg\" alt=\"Open In Colab\"/></a>"
      ]
    },
    {
      "cell_type": "code",
      "execution_count": null,
      "metadata": {
        "id": "PlIf2rEB1Ojl"
      },
      "outputs": [],
      "source": [
        "# Nombre: Jorge Guillermo Cañas Magaña\n",
        "# Link github: https://github.com/GuilleC1987/Tarea1_AIML\n",
        "!pip install ydata-profiling -q\n",
        "from ydata_profiling import ProfileReport\n",
        "import pandas as pd\n",
        "import numpy as np\n",
        "import matplotlib.pyplot as plt\n",
        "import seaborn as sns"
      ]
    },
    {
      "cell_type": "code",
      "source": [
        "# Link kaggle goodreadsbooks data set https://www.kaggle.com/datasets/jealousleopard/goodreadsbooks\n",
        "# Se utiliza el parámetros encoding para evitar error de interpretación al momento de que python lea el archivo y encuentre caracteres especiales.\n",
        "# Se utiliza el parámetros on_bad_lines para saltar lineas del archivo original en donde se tienen valores fuera de las columnas originales de la tabla.\n",
        "\n",
        "df_books = pd.read_csv('books.csv', encoding=\"latin1\", on_bad_lines='warn')\n",
        "df_books.head()"
      ],
      "metadata": {
        "id": "B9T-pb6O3daH"
      },
      "execution_count": null,
      "outputs": []
    },
    {
      "cell_type": "code",
      "source": [
        "#Haciendo uso de shape se obtiene el número de filas y columnas en el data set,\n",
        "df_books.shape"
      ],
      "metadata": {
        "id": "HaMgYATkvPH3"
      },
      "execution_count": null,
      "outputs": []
    },
    {
      "cell_type": "code",
      "source": [
        "#A través de la funcion info se identifica el tipo de dato en cada columna,\n",
        "df_books.info()"
      ],
      "metadata": {
        "id": "g5i1ThxpvM4S"
      },
      "execution_count": null,
      "outputs": []
    },
    {
      "cell_type": "code",
      "source": [
        "#Ejecutando la siguiente linea de código se da formato a los valores arrojados por pandas, con el fin de obtener valores tipo float con dos decimales. En un primer intento se obtuvo resultados con\n",
        "# el formato por default en notación cientifica.\n",
        "pd.set_option('display.float_format', '{:.2f}'.format)"
      ],
      "metadata": {
        "id": "y0iCuTJSmuKP"
      },
      "execution_count": 5,
      "outputs": []
    },
    {
      "cell_type": "code",
      "source": [
        "df_books.describe().transpose()"
      ],
      "metadata": {
        "id": "nWVQjC9A4pj6"
      },
      "execution_count": null,
      "outputs": []
    },
    {
      "cell_type": "markdown",
      "source": [
        "Al análisar el resultado de la función describe se puede concluir lo siguiente del dataframe books:\n",
        "- En el data set la mayoría de libros tienen una buena calificación, la media del averga_raiting es 3.93 y el 75% de los libros han sido calificados con raitings superiores a 3.77.\n",
        "- Adicionalmente, se puede concluir que la mayoría de libros son extensos en su número de páginas, la media es de 336 y casi el 75% de los libros son más extensos a 200 páginas.\n",
        "- En las siguientes secciones de este notebook se identificará el libro con mayor número de páginas.\n",
        "- Además, para la columna num_pages, se observa que el mínimo valor es cero, lo cual no tiene mucho sentido. Se contabilizaran e identificar estos caso para determinar si puede alterar o ensuciar los resultados posteriores.\n",
        "- Finalmente, se identifican libros sin raiting_counts y text_reviews_count, lo cual es factible.\n"
      ],
      "metadata": {
        "id": "P1a3egVqm7WC"
      }
    },
    {
      "cell_type": "code",
      "source": [
        "#En la base al resultado de la linea anterior, se desea identificar el nombre del libro más extenso, el cual según resultado tiene 6576 páginas.\n",
        "#En un primer intento, al ejecutar el filtrado de la fila se obtuvo un error, ya que la columna en el dataset original tiene un espacio al inicio del nombre,\n",
        "#el cual se eliminó haciendo uso de la función srt.strip.\n",
        "df_books.columns = df_books.columns.str.strip()\n",
        "df_books[df_books['num_pages']==6576]"
      ],
      "metadata": {
        "id": "NMUJB4VLpxxY"
      },
      "execution_count": null,
      "outputs": []
    },
    {
      "cell_type": "code",
      "source": [
        "#Se contabiliza el número de libros con cero como valor en num_pages\n",
        "len(list(df_books[df_books['num_pages']==0]['title']))"
      ],
      "metadata": {
        "id": "5R4cXjFssumD"
      },
      "execution_count": null,
      "outputs": []
    },
    {
      "cell_type": "code",
      "source": [
        "# Se identifican 76 libros cuyo valor num_pages es igual a cero. Muy probablemente el creador del data set goodreadsbooks hizo el reemplazo de valores nulos por ceros.\n",
        "# Dejo constancia y link de kaggle en donde obtuve el dataset para comprobación de la limpieza efectuada por el creador.\n",
        "# Sin embargo, debido a la gran cantidad de filas en el data set (11123.00), reemplazar por ceros el valor de num_pages en 76 filas no tendrá mayor efecto distorcionador en los resultados\n",
        "#del EDA y análisis siguientes.\n",
        "list(df_books[df_books['num_pages']==0]['title'])"
      ],
      "metadata": {
        "id": "CysnsuzDsK0i"
      },
      "execution_count": null,
      "outputs": []
    },
    {
      "cell_type": "code",
      "source": [
        "#Se identifican combinaciones de título y autor repetidas dentro del data set\n",
        "df_books.value_counts(['title', 'authors'])[lambda x: x > 1]"
      ],
      "metadata": {
        "colab": {
          "base_uri": "https://localhost:8080/",
          "height": 490
        },
        "id": "5YThDN-FLOR8",
        "outputId": "3a9640e4-9c27-4466-881d-f10ec4a96476"
      },
      "execution_count": 10,
      "outputs": [
        {
          "output_type": "execute_result",
          "data": {
            "text/plain": [
              "title                                                                   authors                                 \n",
              "Memoirs of a Geisha                                                     Arthur Golden                               5\n",
              "One Hundred Years of Solitude                                           Gabriel GarcÃ­a MÃ¡rquez/Gregory Rabassa    5\n",
              "'Salem's Lot                                                            Stephen King                                5\n",
              "Sula                                                                    Toni Morrison                               4\n",
              "White Teeth                                                             Zadie Smith                                 4\n",
              "                                                                                                                   ..\n",
              "The Wonderful Story of Henry Sugar and Six More                         Roald Dahl                                  2\n",
              "Human Traces                                                            Sebastian Faulks                            2\n",
              "Haruki Murakami and the Music of Words                                  Jay Rubin                                   2\n",
              "I Don't Know How She Does It (Kate Reddy  #1)                           Allison Pearson                             2\n",
              "Bargaining for Advantage: Negotiation Strategies for Reasonable People  G. Richard Shell                            2\n",
              "Name: count, Length: 263, dtype: int64"
            ],
            "text/html": [
              "<div>\n",
              "<style scoped>\n",
              "    .dataframe tbody tr th:only-of-type {\n",
              "        vertical-align: middle;\n",
              "    }\n",
              "\n",
              "    .dataframe tbody tr th {\n",
              "        vertical-align: top;\n",
              "    }\n",
              "\n",
              "    .dataframe thead th {\n",
              "        text-align: right;\n",
              "    }\n",
              "</style>\n",
              "<table border=\"1\" class=\"dataframe\">\n",
              "  <thead>\n",
              "    <tr style=\"text-align: right;\">\n",
              "      <th></th>\n",
              "      <th></th>\n",
              "      <th>count</th>\n",
              "    </tr>\n",
              "    <tr>\n",
              "      <th>title</th>\n",
              "      <th>authors</th>\n",
              "      <th></th>\n",
              "    </tr>\n",
              "  </thead>\n",
              "  <tbody>\n",
              "    <tr>\n",
              "      <th>Memoirs of a Geisha</th>\n",
              "      <th>Arthur Golden</th>\n",
              "      <td>5</td>\n",
              "    </tr>\n",
              "    <tr>\n",
              "      <th>One Hundred Years of Solitude</th>\n",
              "      <th>Gabriel GarcÃ­a MÃ¡rquez/Gregory Rabassa</th>\n",
              "      <td>5</td>\n",
              "    </tr>\n",
              "    <tr>\n",
              "      <th>'Salem's Lot</th>\n",
              "      <th>Stephen King</th>\n",
              "      <td>5</td>\n",
              "    </tr>\n",
              "    <tr>\n",
              "      <th>Sula</th>\n",
              "      <th>Toni Morrison</th>\n",
              "      <td>4</td>\n",
              "    </tr>\n",
              "    <tr>\n",
              "      <th>White Teeth</th>\n",
              "      <th>Zadie Smith</th>\n",
              "      <td>4</td>\n",
              "    </tr>\n",
              "    <tr>\n",
              "      <th>...</th>\n",
              "      <th>...</th>\n",
              "      <td>...</td>\n",
              "    </tr>\n",
              "    <tr>\n",
              "      <th>The Wonderful Story of Henry Sugar and Six More</th>\n",
              "      <th>Roald Dahl</th>\n",
              "      <td>2</td>\n",
              "    </tr>\n",
              "    <tr>\n",
              "      <th>Human Traces</th>\n",
              "      <th>Sebastian Faulks</th>\n",
              "      <td>2</td>\n",
              "    </tr>\n",
              "    <tr>\n",
              "      <th>Haruki Murakami and the Music of Words</th>\n",
              "      <th>Jay Rubin</th>\n",
              "      <td>2</td>\n",
              "    </tr>\n",
              "    <tr>\n",
              "      <th>I Don't Know How She Does It (Kate Reddy  #1)</th>\n",
              "      <th>Allison Pearson</th>\n",
              "      <td>2</td>\n",
              "    </tr>\n",
              "    <tr>\n",
              "      <th>Bargaining for Advantage: Negotiation Strategies for Reasonable People</th>\n",
              "      <th>G. Richard Shell</th>\n",
              "      <td>2</td>\n",
              "    </tr>\n",
              "  </tbody>\n",
              "</table>\n",
              "<p>263 rows × 1 columns</p>\n",
              "</div><br><label><b>dtype:</b> int64</label>"
            ]
          },
          "metadata": {},
          "execution_count": 10
        }
      ]
    },
    {
      "cell_type": "code",
      "source": [
        "#Se identifican combinaciones de título, autor y editorial repetidas dentro del data set\n",
        "df_books.value_counts(['title', 'authors','publisher'])[lambda x: x > 1]"
      ],
      "metadata": {
        "id": "6cnYlVa0P84b"
      },
      "execution_count": null,
      "outputs": []
    },
    {
      "cell_type": "code",
      "source": [
        "#Se revisa la distribución de libros por el idioma\n",
        "df_books.value_counts('language_code')[:10]"
      ],
      "metadata": {
        "colab": {
          "base_uri": "https://localhost:8080/",
          "height": 429
        },
        "id": "hNI6om_yKgwM",
        "outputId": "8c9c6a58-99f5-4da6-f7c3-5ae203931e52"
      },
      "execution_count": 12,
      "outputs": [
        {
          "output_type": "execute_result",
          "data": {
            "text/plain": [
              "language_code\n",
              "eng      8908\n",
              "en-US    1408\n",
              "spa       218\n",
              "en-GB     214\n",
              "fre       144\n",
              "ger        99\n",
              "jpn        46\n",
              "mul        19\n",
              "zho        14\n",
              "grc        11\n",
              "Name: count, dtype: int64"
            ],
            "text/html": [
              "<div>\n",
              "<style scoped>\n",
              "    .dataframe tbody tr th:only-of-type {\n",
              "        vertical-align: middle;\n",
              "    }\n",
              "\n",
              "    .dataframe tbody tr th {\n",
              "        vertical-align: top;\n",
              "    }\n",
              "\n",
              "    .dataframe thead th {\n",
              "        text-align: right;\n",
              "    }\n",
              "</style>\n",
              "<table border=\"1\" class=\"dataframe\">\n",
              "  <thead>\n",
              "    <tr style=\"text-align: right;\">\n",
              "      <th></th>\n",
              "      <th>count</th>\n",
              "    </tr>\n",
              "    <tr>\n",
              "      <th>language_code</th>\n",
              "      <th></th>\n",
              "    </tr>\n",
              "  </thead>\n",
              "  <tbody>\n",
              "    <tr>\n",
              "      <th>eng</th>\n",
              "      <td>8908</td>\n",
              "    </tr>\n",
              "    <tr>\n",
              "      <th>en-US</th>\n",
              "      <td>1408</td>\n",
              "    </tr>\n",
              "    <tr>\n",
              "      <th>spa</th>\n",
              "      <td>218</td>\n",
              "    </tr>\n",
              "    <tr>\n",
              "      <th>en-GB</th>\n",
              "      <td>214</td>\n",
              "    </tr>\n",
              "    <tr>\n",
              "      <th>fre</th>\n",
              "      <td>144</td>\n",
              "    </tr>\n",
              "    <tr>\n",
              "      <th>ger</th>\n",
              "      <td>99</td>\n",
              "    </tr>\n",
              "    <tr>\n",
              "      <th>jpn</th>\n",
              "      <td>46</td>\n",
              "    </tr>\n",
              "    <tr>\n",
              "      <th>mul</th>\n",
              "      <td>19</td>\n",
              "    </tr>\n",
              "    <tr>\n",
              "      <th>zho</th>\n",
              "      <td>14</td>\n",
              "    </tr>\n",
              "    <tr>\n",
              "      <th>grc</th>\n",
              "      <td>11</td>\n",
              "    </tr>\n",
              "  </tbody>\n",
              "</table>\n",
              "</div><br><label><b>dtype:</b> int64</label>"
            ]
          },
          "metadata": {},
          "execution_count": 12
        }
      ]
    },
    {
      "cell_type": "code",
      "source": [
        "#Se identifican autores con más libros en la base\n",
        "df_books.value_counts('authors')[lambda x: x > 1][:5]"
      ],
      "metadata": {
        "id": "Lmhk8mP9W92E"
      },
      "execution_count": null,
      "outputs": []
    },
    {
      "cell_type": "code",
      "source": [
        "#Se identifican editoriales con más libros en la base\n",
        "df_books.value_counts('publisher')[lambda x: x > 1][:5]"
      ],
      "metadata": {
        "colab": {
          "base_uri": "https://localhost:8080/",
          "height": 273
        },
        "id": "plv2-JcmXNu3",
        "outputId": "392e2ae0-60e7-4ba3-b239-d11e7d803c7a"
      },
      "execution_count": 14,
      "outputs": [
        {
          "output_type": "execute_result",
          "data": {
            "text/plain": [
              "publisher\n",
              "Vintage             318\n",
              "Penguin Books       261\n",
              "Penguin Classics    184\n",
              "Mariner Books       150\n",
              "Ballantine Books    144\n",
              "Name: count, dtype: int64"
            ],
            "text/html": [
              "<div>\n",
              "<style scoped>\n",
              "    .dataframe tbody tr th:only-of-type {\n",
              "        vertical-align: middle;\n",
              "    }\n",
              "\n",
              "    .dataframe tbody tr th {\n",
              "        vertical-align: top;\n",
              "    }\n",
              "\n",
              "    .dataframe thead th {\n",
              "        text-align: right;\n",
              "    }\n",
              "</style>\n",
              "<table border=\"1\" class=\"dataframe\">\n",
              "  <thead>\n",
              "    <tr style=\"text-align: right;\">\n",
              "      <th></th>\n",
              "      <th>count</th>\n",
              "    </tr>\n",
              "    <tr>\n",
              "      <th>publisher</th>\n",
              "      <th></th>\n",
              "    </tr>\n",
              "  </thead>\n",
              "  <tbody>\n",
              "    <tr>\n",
              "      <th>Vintage</th>\n",
              "      <td>318</td>\n",
              "    </tr>\n",
              "    <tr>\n",
              "      <th>Penguin Books</th>\n",
              "      <td>261</td>\n",
              "    </tr>\n",
              "    <tr>\n",
              "      <th>Penguin Classics</th>\n",
              "      <td>184</td>\n",
              "    </tr>\n",
              "    <tr>\n",
              "      <th>Mariner Books</th>\n",
              "      <td>150</td>\n",
              "    </tr>\n",
              "    <tr>\n",
              "      <th>Ballantine Books</th>\n",
              "      <td>144</td>\n",
              "    </tr>\n",
              "  </tbody>\n",
              "</table>\n",
              "</div><br><label><b>dtype:</b> int64</label>"
            ]
          },
          "metadata": {},
          "execution_count": 14
        }
      ]
    },
    {
      "cell_type": "code",
      "source": [
        "#Se ejecuta ProfileReport de ydata_profiling para completar el EDA\n",
        "report = ProfileReport(df_books)\n",
        "report.to_file(output_file='output.html')"
      ],
      "metadata": {
        "id": "UAJLpteh7G8D"
      },
      "execution_count": null,
      "outputs": []
    },
    {
      "cell_type": "code",
      "source": [
        "#Se corrobora que el data set no tiene null values.\n",
        "df_books.isnull().sum()"
      ],
      "metadata": {
        "id": "jdOdSWQ984Gk"
      },
      "execution_count": null,
      "outputs": []
    },
    {
      "cell_type": "code",
      "source": [
        "sns.pairplot(df_books);"
      ],
      "metadata": {
        "id": "YlM3xRgh9DvS"
      },
      "execution_count": null,
      "outputs": []
    },
    {
      "cell_type": "code",
      "source": [],
      "metadata": {
        "id": "wrEgiZA99jCY"
      },
      "execution_count": 17,
      "outputs": []
    },
    {
      "cell_type": "markdown",
      "source": [
        "De los graficos anteriores el análisis se centrará en average_rating,  num_pages, ratings_count y text_reviews_count, ya que el resto de campos númericos identificadores.\n",
        "\n",
        "- En general, los libros del data set están bien calificados, con un average_rating entre 3 y 5. Unicamente casos bien particulares están fuera de este rango.\n",
        "- Además, se observa en el análisis descriptivo y en el gráfico que la mayoria de los libros han sido calificados por al menos por 100 lectores. Es decir, que se tiene una buena cantidad de datos para concluir que los libros en su mayoría son buenos libros.\n",
        "- Revisando la relación entre average_rating y text_reviews_count, se observa que, si bien es cierto se tienen altos valores de average_rating, una menor cantidad de personas han dejado sus comentarios. Los lectores tienden a obviar esta sección."
      ],
      "metadata": {
        "id": "LP7Jg33R60hr"
      }
    },
    {
      "cell_type": "code",
      "source": [],
      "metadata": {
        "id": "kuYEK9fjAqgE"
      },
      "execution_count": null,
      "outputs": []
    }
  ]
}